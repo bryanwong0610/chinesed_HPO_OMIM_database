{
 "cells": [
  {
   "cell_type": "code",
   "execution_count": 1,
   "metadata": {},
   "outputs": [],
   "source": [
    "import pandas as pd\n",
    "import warnings\n",
    "warnings.filterwarnings(\"ignore\")\n",
    "import numpy as np\n",
    "import sys\n",
    "import os\n",
    "def dataread(input,write=False,writeData=None):\n",
    "    file_type=input.split('.')[-1]\n",
    "    if file_type == 'xlsx':\n",
    "        file=pd.read_excel(input)\n",
    "    elif file_type == 'txt':\n",
    "        file=pd.read_csv(input,sep='\\t')\n",
    "    elif file_type == 'csv':\n",
    "        file=pd.read_csv(input)\n",
    "    return file\n",
    "## loading the file \n",
    "HPO_old=pd.read_csv('DBHPO.csv')\n",
    "HPO_Gene=pd.read_csv('HPO_relates_Disease/HPO_relates_Disease.csv')\n",
    "HPO_ch=pd.read_csv('HPO_relates_Disease/HPO_datasets_20220722.csv')\n",
    "HPO_phen2gene=pd.read_csv('phenotype_to_genes.txt',sep='\\t', header=None)\n",
    "HPO_gene2phen=pd.read_csv('genes_to_phenotype.txt',sep='\\t', header=None)\n",
    "CHPO_raw=pd.read_csv('CHPO.csv',dtype=str)\n",
    "omim=pd.read_csv('08_26_all_omim_phenotype_translation.csv')\n",
    "omim_chinesed=pd.read_csv('OMIM_08_26.csv')\n",
    "## change the raw_data \n",
    "HPO_phen2gene.keys()\n",
    "col_name={0:'entrez_id',1:'Gene_symbol',2:'HPO_id',3:'HPO_description'}\n",
    "HPO_phen2gene.rename(columns={0:'HPO_id',1:'HPO_description',2:'entrez_id',3:'Gene_symbol'},inplace=True)\n",
    "HPO_gene2phen.rename(columns=col_name,inplace=True)\n",
    "\n",
    "hpo_gene_phen2gen=list(set(HPO_phen2gene['Gene_symbol']))\n",
    "hpo_gene_nc=list(set(HPO_Gene['entrezGeneSymbol']))\n",
    "hpo_gene_ge2ph=list(set(HPO_gene2phen['Gene_symbol']))\n",
    "hpo_gene_old_db=list(set(HPO_old['id']))\n",
    "omim_genn=list(set(omim['Gene/Locus']))\n",
    "\n",
    "\n",
    "\n",
    "hpo_id_phen2gen=list(set(HPO_phen2gene['HPO_id']))\n",
    "hpo_id_nc=list(set(HPO_Gene['HPO_id']))\n",
    "hpo_id_ge2ph=list(set(HPO_gene2phen['HPO_id']))\n",
    "\n",
    "hpo_id_judge=[]\n",
    "omim_id_jude=[]\n",
    "hpo_gene_phVgen_ju=[]\n",
    "\n",
    "Counts={'hpo_gene':hpo_gene_phVgen_ju}\n",
    "Counts=pd.DataFrame(Counts)\n",
    "\n",
    "gene_counts=pd.value_counts(Counts['hpo_gene'])"
   ]
  },
  {
   "cell_type": "code",
   "execution_count": 7,
   "metadata": {},
   "outputs": [
    {
     "ename": "KeyboardInterrupt",
     "evalue": "",
     "output_type": "error",
     "traceback": [
      "\u001b[0;31m---------------------------------------------------------------------------\u001b[0m",
      "\u001b[0;31mKeyboardInterrupt\u001b[0m                         Traceback (most recent call last)",
      "\u001b[0;32m/var/folders/2h/rtg6hrd97yl__yfcsv92n6240000gn/T/ipykernel_40071/3312651280.py\u001b[0m in \u001b[0;36m<module>\u001b[0;34m\u001b[0m\n\u001b[1;32m     17\u001b[0m             \u001b[0mstr_tmp_ge2ph_en\u001b[0m\u001b[0;34m=\u001b[0m \u001b[0mHPO_gene2phen\u001b[0m\u001b[0;34m[\u001b[0m\u001b[0;34m'HPO_description'\u001b[0m\u001b[0;34m]\u001b[0m\u001b[0;34m[\u001b[0m\u001b[0mm\u001b[0m\u001b[0;34m]\u001b[0m\u001b[0;34m+\u001b[0m \u001b[0;34m' ('\u001b[0m \u001b[0;34m+\u001b[0m \u001b[0mHPO_gene2phen\u001b[0m\u001b[0;34m[\u001b[0m\u001b[0;34m'HPO_id'\u001b[0m\u001b[0;34m]\u001b[0m\u001b[0;34m[\u001b[0m\u001b[0mm\u001b[0m\u001b[0;34m]\u001b[0m \u001b[0;34m+\u001b[0m \u001b[0;34m')'\u001b[0m\u001b[0;34m\u001b[0m\u001b[0;34m\u001b[0m\u001b[0m\n\u001b[1;32m     18\u001b[0m             \u001b[0;32mfor\u001b[0m \u001b[0mmm\u001b[0m \u001b[0;32min\u001b[0m \u001b[0mrange\u001b[0m\u001b[0;34m(\u001b[0m\u001b[0mlen\u001b[0m\u001b[0;34m(\u001b[0m\u001b[0mCHPO_raw\u001b[0m\u001b[0;34m)\u001b[0m\u001b[0;34m)\u001b[0m\u001b[0;34m:\u001b[0m\u001b[0;34m\u001b[0m\u001b[0;34m\u001b[0m\u001b[0m\n\u001b[0;32m---> 19\u001b[0;31m                 \u001b[0;32mif\u001b[0m \u001b[0mHPO_gene2phen\u001b[0m\u001b[0;34m[\u001b[0m\u001b[0;34m'HPO_id'\u001b[0m\u001b[0;34m]\u001b[0m\u001b[0;34m[\u001b[0m\u001b[0mm\u001b[0m\u001b[0;34m]\u001b[0m \u001b[0;34m==\u001b[0m \u001b[0mCHPO_raw\u001b[0m\u001b[0;34m[\u001b[0m\u001b[0;34m'HPO_id'\u001b[0m\u001b[0;34m]\u001b[0m\u001b[0;34m[\u001b[0m\u001b[0mmm\u001b[0m\u001b[0;34m]\u001b[0m\u001b[0;34m:\u001b[0m\u001b[0;34m\u001b[0m\u001b[0;34m\u001b[0m\u001b[0m\n\u001b[0m\u001b[1;32m     20\u001b[0m                     \u001b[0mstr_tmp_ge2ph_ch\u001b[0m\u001b[0;34m=\u001b[0m \u001b[0mCHPO_raw\u001b[0m\u001b[0;34m[\u001b[0m\u001b[0;34m'HPO_cname'\u001b[0m\u001b[0;34m]\u001b[0m\u001b[0;34m[\u001b[0m\u001b[0mmm\u001b[0m\u001b[0;34m]\u001b[0m \u001b[0;34m+\u001b[0m \u001b[0;34m'('\u001b[0m \u001b[0;34m+\u001b[0m \u001b[0mHPO_gene2phen\u001b[0m\u001b[0;34m[\u001b[0m\u001b[0;34m'HPO_id'\u001b[0m\u001b[0;34m]\u001b[0m\u001b[0;34m[\u001b[0m\u001b[0mm\u001b[0m\u001b[0;34m]\u001b[0m \u001b[0;34m+\u001b[0m \u001b[0;34m')'\u001b[0m\u001b[0;34m\u001b[0m\u001b[0;34m\u001b[0m\u001b[0m\n\u001b[1;32m     21\u001b[0m                     \u001b[0mHPO_description_ch\u001b[0m\u001b[0;34m.\u001b[0m\u001b[0mappend\u001b[0m\u001b[0;34m(\u001b[0m\u001b[0mstr_tmp_ge2ph_ch\u001b[0m\u001b[0;34m)\u001b[0m\u001b[0;34m\u001b[0m\u001b[0;34m\u001b[0m\u001b[0m\n",
      "\u001b[0;32m/Library/Frameworks/Python.framework/Versions/3.7/lib/python3.7/site-packages/pandas/core/series.py\u001b[0m in \u001b[0;36m__getitem__\u001b[0;34m(self, key)\u001b[0m\n\u001b[1;32m    866\u001b[0m         \u001b[0mkey\u001b[0m \u001b[0;34m=\u001b[0m \u001b[0mcom\u001b[0m\u001b[0;34m.\u001b[0m\u001b[0mapply_if_callable\u001b[0m\u001b[0;34m(\u001b[0m\u001b[0mkey\u001b[0m\u001b[0;34m,\u001b[0m \u001b[0mself\u001b[0m\u001b[0;34m)\u001b[0m\u001b[0;34m\u001b[0m\u001b[0;34m\u001b[0m\u001b[0m\n\u001b[1;32m    867\u001b[0m         \u001b[0;32mtry\u001b[0m\u001b[0;34m:\u001b[0m\u001b[0;34m\u001b[0m\u001b[0;34m\u001b[0m\u001b[0m\n\u001b[0;32m--> 868\u001b[0;31m             \u001b[0mresult\u001b[0m \u001b[0;34m=\u001b[0m \u001b[0mself\u001b[0m\u001b[0;34m.\u001b[0m\u001b[0mindex\u001b[0m\u001b[0;34m.\u001b[0m\u001b[0mget_value\u001b[0m\u001b[0;34m(\u001b[0m\u001b[0mself\u001b[0m\u001b[0;34m,\u001b[0m \u001b[0mkey\u001b[0m\u001b[0;34m)\u001b[0m\u001b[0;34m\u001b[0m\u001b[0;34m\u001b[0m\u001b[0m\n\u001b[0m\u001b[1;32m    869\u001b[0m \u001b[0;34m\u001b[0m\u001b[0m\n\u001b[1;32m    870\u001b[0m             \u001b[0;32mif\u001b[0m \u001b[0;32mnot\u001b[0m \u001b[0mis_scalar\u001b[0m\u001b[0;34m(\u001b[0m\u001b[0mresult\u001b[0m\u001b[0;34m)\u001b[0m\u001b[0;34m:\u001b[0m\u001b[0;34m\u001b[0m\u001b[0;34m\u001b[0m\u001b[0m\n",
      "\u001b[0;32m/Library/Frameworks/Python.framework/Versions/3.7/lib/python3.7/site-packages/pandas/core/indexes/base.py\u001b[0m in \u001b[0;36mget_value\u001b[0;34m(self, series, key)\u001b[0m\n\u001b[1;32m   4372\u001b[0m         \u001b[0mk\u001b[0m \u001b[0;34m=\u001b[0m \u001b[0mself\u001b[0m\u001b[0;34m.\u001b[0m\u001b[0m_convert_scalar_indexer\u001b[0m\u001b[0;34m(\u001b[0m\u001b[0mk\u001b[0m\u001b[0;34m,\u001b[0m \u001b[0mkind\u001b[0m\u001b[0;34m=\u001b[0m\u001b[0;34m'getitem'\u001b[0m\u001b[0;34m)\u001b[0m\u001b[0;34m\u001b[0m\u001b[0;34m\u001b[0m\u001b[0m\n\u001b[1;32m   4373\u001b[0m         \u001b[0;32mtry\u001b[0m\u001b[0;34m:\u001b[0m\u001b[0;34m\u001b[0m\u001b[0;34m\u001b[0m\u001b[0m\n\u001b[0;32m-> 4374\u001b[0;31m             return self._engine.get_value(s, k,\n\u001b[0m\u001b[1;32m   4375\u001b[0m                                           tz=getattr(series.dtype, 'tz', None))\n\u001b[1;32m   4376\u001b[0m         \u001b[0;32mexcept\u001b[0m \u001b[0mKeyError\u001b[0m \u001b[0;32mas\u001b[0m \u001b[0me1\u001b[0m\u001b[0;34m:\u001b[0m\u001b[0;34m\u001b[0m\u001b[0;34m\u001b[0m\u001b[0m\n",
      "\u001b[0;31mKeyboardInterrupt\u001b[0m: "
     ]
    }
   ],
   "source": [
    "\n",
    "for i in hpo_gene_ge2ph[1:3]:\n",
    "    HPO_description=[]\n",
    "    HPO_description_ch=[]\n",
    "    HPO_description_merge=[]\n",
    "    HPO_description_merge_ch=[]\n",
    "    gene_symbol=[]\n",
    "    for k in range(len(HPO_phen2gene)):\n",
    "        if i == HPO_phen2gene['Gene_symbol'][k]:\n",
    "            str_tmp_ph2gen_en=HPO_phen2gene['HPO_description'][k]+ ' (' + HPO_phen2gene['HPO_id'][k] + ')'\n",
    "            for kk in range(len(CHPO_raw)):\n",
    "                if HPO_phen2gene['HPO_id'][k] == CHPO_raw['HPO_id'][kk]:\n",
    "                    str_tmp_ph2gen_ch=  CHPO_raw['HPO_name'][kk] + '(' + HPO_phen2gene['HPO_id'][k] + ')'\n",
    "                    HPO_description_ch.append(str_tmp_ph2gen_ch)\n",
    "            HPO_description.append(str_tmp_ph2gen_en)\n",
    "    for m in range(len(HPO_gene2phen)):\n",
    "        if i == HPO_gene2phen['Gene_symbol'][m]:\n",
    "            str_tmp_ge2ph_en= HPO_gene2phen['HPO_description'][m]+ ' (' + HPO_gene2phen['HPO_id'][m] + ')'\n",
    "            for mm in range(len(CHPO_raw)):\n",
    "                if HPO_gene2phen['HPO_id'][m] == CHPO_raw['HPO_id'][mm]:\n",
    "                    str_tmp_ge2ph_ch= CHPO_raw['HPO_name'][mm] + '(' + HPO_gene2phen['HPO_id'][m] + ')'\n",
    "                    HPO_description_ch.append(str_tmp_ge2ph_ch)\n",
    "            HPO_description.append(str_tmp_ge2ph_en)\n",
    "    HPO_description_uniq=list(set(HPO_description))\n",
    "    HPO_description_ch_uniq=list(set(HPO_description_ch))\n",
    "    #print(HPO_description_uniq)\n",
    "    tmp=''\n",
    "    tmp2=''\n",
    "    for x in HPO_description_uniq:\n",
    "        tmp += x + ';'\n",
    "    str_tmp=tmp[:-1]\n",
    "    for z in HPO_description_ch_uniq:\n",
    "        tmp2 += z + ';'\n",
    "    str_tmp_ch= tmp2[:-1]\n",
    "    #print(str_tmp)\n",
    "    HPO_description_merge.append(str_tmp)\n",
    "    HPO_description_merge_ch.append(str_tmp_ch)\n",
    "    gene_symbol.append(i)\n",
    "New_HPO_data={'Gene_symbo':gene_symbol,'HPO_en':HPO_description_merge,'HPO_ch':HPO_description_merge_ch}\n",
    "    \n"
   ]
  },
  {
   "cell_type": "code",
   "execution_count": 3,
   "metadata": {},
   "outputs": [],
   "source": [
    "test=pd.DataFrame(New_HPO_data)"
   ]
  },
  {
   "cell_type": "code",
   "execution_count": 4,
   "metadata": {},
   "outputs": [],
   "source": [
    "test.to_csv('HPO_database_smaple.csv')"
   ]
  },
  {
   "cell_type": "code",
   "execution_count": null,
   "metadata": {},
   "outputs": [],
   "source": []
  }
 ],
 "metadata": {
  "kernelspec": {
   "display_name": "Python 3.7.4 64-bit",
   "language": "python",
   "name": "python3"
  },
  "language_info": {
   "codemirror_mode": {
    "name": "ipython",
    "version": 3
   },
   "file_extension": ".py",
   "mimetype": "text/x-python",
   "name": "python",
   "nbconvert_exporter": "python",
   "pygments_lexer": "ipython3",
   "version": "3.7.4"
  },
  "orig_nbformat": 4,
  "vscode": {
   "interpreter": {
    "hash": "aee8b7b246df8f9039afb4144a1f6fd8d2ca17a180786b69acc140d282b71a49"
   }
  }
 },
 "nbformat": 4,
 "nbformat_minor": 2
}
